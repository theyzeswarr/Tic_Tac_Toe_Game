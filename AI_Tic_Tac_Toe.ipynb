{
  "nbformat": 4,
  "nbformat_minor": 0,
  "metadata": {
    "colab": {
      "provenance": []
    },
    "kernelspec": {
      "name": "python3",
      "display_name": "Python 3"
    },
    "language_info": {
      "name": "python"
    }
  },
  "cells": [
    {
      "cell_type": "code",
      "execution_count": 1,
      "metadata": {
        "id": "KjwxzZa7zsqi"
      },
      "outputs": [],
      "source": [
        "import random"
      ]
    },
    {
      "cell_type": "code",
      "source": [
        "def print_board(board):\n",
        "    for row in board:\n",
        "        print(\" | \".join(row))\n",
        "        print(\"-\" * 9)"
      ],
      "metadata": {
        "id": "j76khpT8z3fF"
      },
      "execution_count": 2,
      "outputs": []
    },
    {
      "cell_type": "code",
      "source": [
        "def check_winner(board, player):\n",
        "    for row in board:\n",
        "        if all([cell == player for cell in row]):\n",
        "            return True\n",
        "\n",
        "    for col in range(3):\n",
        "        if all([board[row][col] == player for row in range(3)]):\n",
        "            return True\n",
        "\n",
        "    if all([board[i][i] == player for i in range(3)]) or all([board[i][2 - i] == player for i in range(3)]):\n",
        "        return True\n",
        "\n",
        "    return False"
      ],
      "metadata": {
        "id": "l8D0eH7V0GNr"
      },
      "execution_count": 5,
      "outputs": []
    },
    {
      "cell_type": "code",
      "source": [
        "def check_draw(board):\n",
        "    return all([cell != \" \" for row in board for cell in row])"
      ],
      "metadata": {
        "id": "J1KoI4H00MYM"
      },
      "execution_count": 6,
      "outputs": []
    },
    {
      "cell_type": "code",
      "source": [
        "def minimax(board, depth, maximizing_player):\n",
        "    if check_winner(board, \"X\"):\n",
        "        return -10 + depth\n",
        "    if check_winner(board, \"O\"):\n",
        "        return 10 - depth\n",
        "    if check_draw(board):\n",
        "        return 0\n",
        "\n",
        "    if maximizing_player:\n",
        "        max_eval = float(\"-inf\")\n",
        "        for i in range(3):\n",
        "            for j in range(3):\n",
        "                if board[i][j] == \" \":\n",
        "                    board[i][j] = \"O\"\n",
        "                    eval = minimax(board, depth + 1, False)\n",
        "                    board[i][j] = \" \"\n",
        "                    max_eval = max(max_eval, eval)\n",
        "        return max_eval\n",
        "    else:\n",
        "        min_eval = float(\"inf\")\n",
        "        for i in range(3):\n",
        "            for j in range(3):\n",
        "                if board[i][j] == \" \":\n",
        "                    board[i][j] = \"X\"\n",
        "                    eval = minimax(board, depth + 1, True)\n",
        "                    board[i][j] = \" \"\n",
        "                    min_eval = min(min_eval, eval)\n",
        "        return min_eval"
      ],
      "metadata": {
        "id": "CraPtXe-0eKp"
      },
      "execution_count": 8,
      "outputs": []
    },
    {
      "cell_type": "code",
      "source": [
        "def get_best_move(board):\n",
        "    best_eval = float(\"-inf\")\n",
        "    best_move = None\n",
        "\n",
        "    for i in range(3):\n",
        "        for j in range(3):\n",
        "            if board[i][j] == \" \":\n",
        "                board[i][j] = \"O\"\n",
        "                eval = minimax(board, 0, False)\n",
        "                board[i][j] = \" \"\n",
        "                if eval > best_eval:\n",
        "                    best_eval = eval\n",
        "                    best_move = (i, j)\n",
        "\n",
        "    return best_move"
      ],
      "metadata": {
        "id": "YppMVxOS0gAO"
      },
      "execution_count": 9,
      "outputs": []
    },
    {
      "cell_type": "code",
      "source": [
        "def main():\n",
        "    board = [[\" \" for _ in range(3)] for _ in range(3)]\n",
        "    player = random.choice([\"X\", \"O\"])\n",
        "\n",
        "    while True:\n",
        "        print_board(board)\n",
        "\n",
        "        if check_winner(board, \"X\"):\n",
        "            print(\"Player X wins!\")\n",
        "            break\n",
        "        elif check_winner(board, \"O\"):\n",
        "            print(\"Player O wins!\")\n",
        "            break\n",
        "        elif check_draw(board):\n",
        "            print(\"It's a draw!\")\n",
        "            break\n",
        "\n",
        "        if player == \"X\":\n",
        "            x, y = map(int, input(\"Enter row and column (0-2) separated by space: \").split())\n",
        "            if board[x][y] == \" \":\n",
        "                board[x][y] = player\n",
        "                player = \"O\"\n",
        "        else:\n",
        "            x, y = get_best_move(board)\n",
        "            board[x][y] = player\n",
        "            player = \"X\""
      ],
      "metadata": {
        "id": "H_Fk1AGI0kko"
      },
      "execution_count": 12,
      "outputs": []
    },
    {
      "cell_type": "code",
      "source": [
        "if __name__ == \"__main__\":\n",
        "    main()"
      ],
      "metadata": {
        "colab": {
          "base_uri": "https://localhost:8080/"
        },
        "id": "AQlLY0tl1gdf",
        "outputId": "edf17941-fee2-4c67-e509-e32b667a1bc5"
      },
      "execution_count": 14,
      "outputs": [
        {
          "output_type": "stream",
          "name": "stdout",
          "text": [
            "  |   |  \n",
            "---------\n",
            "  |   |  \n",
            "---------\n",
            "  |   |  \n",
            "---------\n",
            "Enter row and column (0-2) separated by space: 1 1\n",
            "  |   |  \n",
            "---------\n",
            "  | X |  \n",
            "---------\n",
            "  |   |  \n",
            "---------\n",
            "O |   |  \n",
            "---------\n",
            "  | X |  \n",
            "---------\n",
            "  |   |  \n",
            "---------\n",
            "Enter row and column (0-2) separated by space: 0 2\n",
            "O |   | X\n",
            "---------\n",
            "  | X |  \n",
            "---------\n",
            "  |   |  \n",
            "---------\n",
            "O |   | X\n",
            "---------\n",
            "  | X |  \n",
            "---------\n",
            "O |   |  \n",
            "---------\n",
            "Enter row and column (0-2) separated by space: 1 0\n",
            "O |   | X\n",
            "---------\n",
            "X | X |  \n",
            "---------\n",
            "O |   |  \n",
            "---------\n",
            "O |   | X\n",
            "---------\n",
            "X | X | O\n",
            "---------\n",
            "O |   |  \n",
            "---------\n",
            "Enter row and column (0-2) separated by space: 0 1\n",
            "O | X | X\n",
            "---------\n",
            "X | X | O\n",
            "---------\n",
            "O |   |  \n",
            "---------\n",
            "O | X | X\n",
            "---------\n",
            "X | X | O\n",
            "---------\n",
            "O | O |  \n",
            "---------\n",
            "Enter row and column (0-2) separated by space: 2 2\n",
            "O | X | X\n",
            "---------\n",
            "X | X | O\n",
            "---------\n",
            "O | O | X\n",
            "---------\n",
            "It's a draw!\n"
          ]
        }
      ]
    }
  ]
}